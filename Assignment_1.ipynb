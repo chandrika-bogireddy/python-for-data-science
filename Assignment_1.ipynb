{
  "cells": [
    {
      "cell_type": "markdown",
      "metadata": {
        "id": "8kISTnpndptD"
      },
      "source": [
        "## Question 1"
      ]
    },
    {
      "cell_type": "markdown",
      "metadata": {
        "id": "iK37mDo_dptM"
      },
      "source": [
        "- `Take two integer numbers and return their product. If the product is greater than 1000, then return their sum if product is less than 1000 return product value only.`\n",
        "\n"
      ]
    },
    {
      "cell_type": "code",
      "execution_count": null,
      "metadata": {
        "id": "TiPjQN0KdptO",
        "outputId": "0e8a428e-6575-4c0c-b6c6-d770df7f3871",
        "colab": {
          "base_uri": "https://localhost:8080/"
        }
      },
      "outputs": [
        {
          "output_type": "stream",
          "name": "stdout",
          "text": [
            "500\n",
            "20\n",
            "10000\n"
          ]
        }
      ],
      "source": [
        "# Please write The solution Here for above question 1:\n",
        "int1=int(input())\n",
        "int2=int(input())\n",
        "if int1*int2>=1000:\n",
        "  print(int1*int2)\n",
        "else:\n",
        "  print(int1+int2)"
      ]
    },
    {
      "cell_type": "markdown",
      "metadata": {
        "id": "pJKywBz1dptU"
      },
      "source": [
        "## question 2"
      ]
    },
    {
      "cell_type": "markdown",
      "metadata": {
        "id": "xIoJMBfidptV"
      },
      "source": [
        "- `Given a range of the first 10 numbers, Iterate from the start number to the end number, and In each iteration print the sum of the current number and previous number`\n",
        "\n",
        "Expected output:\n",
        "-----------------\n",
        "    Printing current and previous number sum in a range(10)\n",
        "    Current Number 0 Previous Number  0  Sum:  0\n",
        "    Current Number 1 Previous Number  0  Sum:  1\n",
        "    Current Number 2 Previous Number  1  Sum:  3\n",
        "    Current Number 3 Previous Number  2  Sum:  5\n",
        "    Current Number 4 Previous Number  3  Sum:  7\n",
        "    Current Number 5 Previous Number  4  Sum:  9\n",
        "    Current Number 6 Previous Number  5  Sum:  11\n",
        "    Current Number 7 Previous Number  6  Sum:  13\n",
        "    Current Number 8 Previous Number  7  Sum:  15\n",
        "    Current Number 9 Previous Number  8  Sum:  17"
      ]
    },
    {
      "cell_type": "code",
      "execution_count": null,
      "metadata": {
        "id": "4sLCgw16dptX",
        "outputId": "9c12d5f9-4921-4103-cace-88dc9bacb0f0",
        "colab": {
          "base_uri": "https://localhost:8080/"
        }
      },
      "outputs": [
        {
          "output_type": "stream",
          "name": "stdout",
          "text": [
            "Printing current and previous number sum in a range(10)\n",
            "Current number 0 Previous number 0 sum: 0\n",
            "Current number 1 Previous number 0 sum: 1\n",
            "Current number 2 Previous number 1 sum: 3\n",
            "Current number 3 Previous number 2 sum: 5\n",
            "Current number 4 Previous number 3 sum: 7\n",
            "Current number 5 Previous number 4 sum: 9\n",
            "Current number 6 Previous number 5 sum: 11\n",
            "Current number 7 Previous number 6 sum: 13\n",
            "Current number 8 Previous number 7 sum: 15\n",
            "Current number 9 Previous number 8 sum: 17\n",
            "None\n"
          ]
        }
      ],
      "source": [
        "# Please write The solution Here for above question 2:\n",
        "def cur_pri(a,b):\n",
        "  sum=0\n",
        "  for i in range(a,b):\n",
        "    if i==0:\n",
        "      sum=i\n",
        "      print(f'Current number {i} Previous number {i} sum: {i}')\n",
        "    else:\n",
        "      sum=i+(i-1)\n",
        "      print(f'Current number {i} Previous number {i-1} sum: {sum}')\n",
        "print(\"Printing current and previous number sum in a range(10)\")\n",
        "print(cur_pri(0,10))"
      ]
    },
    {
      "cell_type": "markdown",
      "metadata": {
        "id": "TqXHdOe7dptY"
      },
      "source": [
        "## question 3"
      ]
    },
    {
      "cell_type": "markdown",
      "metadata": {
        "id": "70BztW2kdptZ"
      },
      "source": [
        "Given a string and an integer number n, remove characters from a string starting from zero up to n and return a new string\n",
        "\n",
        "- Example :\n",
        "     `(\"pynative\", 4) so output must be tive.`\n",
        "     \n",
        "     `Note: n must be less than the length of the string.`"
      ]
    },
    {
      "cell_type": "code",
      "execution_count": null,
      "metadata": {
        "id": "nttjtCuYdptZ",
        "outputId": "5941fecd-46fe-49c7-cab3-aa55077edacd",
        "colab": {
          "base_uri": "https://localhost:8080/"
        }
      },
      "outputs": [
        {
          "output_type": "stream",
          "name": "stdout",
          "text": [
            "pynative\n",
            "4\n",
            "tive\n"
          ]
        }
      ],
      "source": [
        "# Please write The solution Here for above question 3:\n",
        "stri=input()\n",
        "num=int(input())\n",
        "k=lambda stri,num:stri[num::]\n",
        "print(k(stri,num))\n"
      ]
    },
    {
      "cell_type": "markdown",
      "metadata": {
        "id": "9p3B3qu1dpta"
      },
      "source": [
        "## question 4"
      ]
    },
    {
      "cell_type": "markdown",
      "metadata": {
        "id": "axtGn2SBdptb"
      },
      "source": [
        "### `Given a list of numbers, return True if first and last number of a list is same`\n",
        "\n",
        "    Expected Output:\n",
        "    -------------------------------------\n",
        "\n",
        "    Given list is\n",
        "    a =  [10, 20, 30, 40, 10]\n",
        "    b = [10 , 20 , 30 , 40, 10 ]\n",
        "    result is True\n",
        "\n",
        "    Given list is  \n",
        "    a = [10, 20, 30, 40, 50]\n",
        "    b = [11 , 21 , 31 , 41 , 51 ]\n",
        "    result is False"
      ]
    },
    {
      "cell_type": "code",
      "execution_count": null,
      "metadata": {
        "id": "FPBSrUuzdptb",
        "outputId": "3b511c38-73f2-4472-b557-9d8acc69cc1f",
        "colab": {
          "base_uri": "https://localhost:8080/"
        }
      },
      "outputs": [
        {
          "output_type": "stream",
          "name": "stdout",
          "text": [
            "result is True\n"
          ]
        }
      ],
      "source": [
        "# Please write The solution Here for above question 4:\n",
        "def lis(c,d):\n",
        "  if c[0]==c[-1] and d[0]==d[-1]:\n",
        "    return \"result is True\"\n",
        "  else:\n",
        "    return \"result is False\"\n",
        "a =  [10, 20, 30, 40, 10]\n",
        "b = [10 , 20 , 30 , 40, 10 ]\n",
        "print(lis(a,b))"
      ]
    },
    {
      "cell_type": "markdown",
      "metadata": {
        "id": "fe38jxVmdptc"
      },
      "source": [
        "## question 5"
      ]
    },
    {
      "cell_type": "markdown",
      "metadata": {
        "id": "6jNzH0qydptd"
      },
      "source": [
        "### Given a two Python list. Iterate both lists simultaneously such that list1 should display item in original order and list2 in reverse order\n",
        "\n",
        "    list1 = [10, 20, 30, 40]\n",
        "    list2 = [100, 200, 300, 400]\n",
        "\n",
        "\n",
        "    Expected output:\n",
        "    -----------------------------\n",
        "    10 400\n",
        "    20 300\n",
        "    30 200\n",
        "    40 100"
      ]
    },
    {
      "cell_type": "code",
      "execution_count": null,
      "metadata": {
        "id": "GHi3hbKndptd",
        "outputId": "b4015239-48f0-4f3e-907f-d9c5ab081562",
        "colab": {
          "base_uri": "https://localhost:8080/"
        }
      },
      "outputs": [
        {
          "output_type": "stream",
          "name": "stdout",
          "text": [
            "10 400\n",
            "20 300\n",
            "30 200\n",
            "40 100\n"
          ]
        }
      ],
      "source": [
        "# Please write The solution Here for above question 5:\n",
        "l1=[10, 20, 30, 40]\n",
        "l2 =[100, 200, 300, 400]\n",
        "l2.reverse()\n",
        "for i in l1:\n",
        "  print(i,l2[0])\n",
        "  l2.remove(l2[0])"
      ]
    },
    {
      "cell_type": "markdown",
      "metadata": {
        "id": "zIJkRyD7dpte"
      },
      "source": [
        "## question 6"
      ]
    },
    {
      "cell_type": "markdown",
      "metadata": {
        "id": "J7v5LdSMdpte"
      },
      "source": [
        "### Remove empty strings from the list of strings\n",
        "\n",
        "\n",
        "    list1 = [\"Mike\", \"\", \"Emma\", \"Kelly\", \"\", \"Brad\"]\n",
        "\n",
        "    Expected output:\n",
        "    ----------------------\n",
        "\n",
        "    [\"Mike\", \"Emma\", \"Kelly\", \"Brad\"]\n"
      ]
    },
    {
      "cell_type": "code",
      "execution_count": null,
      "metadata": {
        "id": "P4ZT--MWdptf",
        "outputId": "6ca798b9-291a-48f5-a52b-85b7a7869a3a",
        "colab": {
          "base_uri": "https://localhost:8080/"
        }
      },
      "outputs": [
        {
          "output_type": "stream",
          "name": "stdout",
          "text": [
            "['Mike', 'Emma', 'Kelly', 'Brad']\n"
          ]
        }
      ],
      "source": [
        "l1 =[\"Mike\", \"\", \"Emma\", \"Kelly\", \"\", \"Brad\"]\n",
        "k=[i for i in l1 if len(i)>1]\n",
        "print(k)\n"
      ]
    },
    {
      "cell_type": "code",
      "execution_count": null,
      "metadata": {
        "id": "-WQoJWVzdptf"
      },
      "outputs": [],
      "source": []
    }
  ],
  "metadata": {
    "kernelspec": {
      "display_name": "Python 3 (ipykernel)",
      "language": "python",
      "name": "python3"
    },
    "language_info": {
      "codemirror_mode": {
        "name": "ipython",
        "version": 3
      },
      "file_extension": ".py",
      "mimetype": "text/x-python",
      "name": "python",
      "nbconvert_exporter": "python",
      "pygments_lexer": "ipython3",
      "version": "3.11.5"
    },
    "colab": {
      "provenance": []
    }
  },
  "nbformat": 4,
  "nbformat_minor": 0
}